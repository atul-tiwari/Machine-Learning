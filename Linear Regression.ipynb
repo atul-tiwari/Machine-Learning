{
 "metadata": {
  "language_info": {
   "codemirror_mode": {
    "name": "ipython",
    "version": 3
   },
   "file_extension": ".py",
   "mimetype": "text/x-python",
   "name": "python",
   "nbconvert_exporter": "python",
   "pygments_lexer": "ipython3",
   "version": "3.8.6-final"
  },
  "orig_nbformat": 2,
  "kernelspec": {
   "name": "python3",
   "display_name": "Python 3.8.6 64-bit",
   "metadata": {
    "interpreter": {
     "hash": "43130cf99896827de218b20146294cbb84f6046829862c1266132e562cb88257"
    }
   }
  }
 },
 "nbformat": 4,
 "nbformat_minor": 2,
 "cells": [
  {
   "cell_type": "code",
   "execution_count": 26,
   "metadata": {},
   "outputs": [],
   "source": [
    "import pandas as pd\n",
    "import numpy as np\n",
    "import sklearn\n",
    "from sklearn import linear_model\n",
    "from sklearn.utils import shuffle"
   ]
  },
  {
   "cell_type": "code",
   "execution_count": 27,
   "metadata": {},
   "outputs": [],
   "source": [
    "data = pd.read_csv(\"DataSets/student-mat.csv\", sep=\";\")\n",
    "\n",
    "data = data[[\"G1\", \"G2\", \"G3\", \"studytime\", \"failures\", \"absences\"]]\n",
    "\n",
    "predict = \"G3\""
   ]
  },
  {
   "cell_type": "code",
   "execution_count": 28,
   "metadata": {},
   "outputs": [],
   "source": [
    "X = np.array(data.drop([predict], 1))\n",
    "y = np.array(data[predict])"
   ]
  },
  {
   "cell_type": "code",
   "execution_count": 29,
   "metadata": {},
   "outputs": [],
   "source": [
    "x_train, x_test, y_train, y_test = sklearn.model_selection.train_test_split(X, y, test_size = 0.1)"
   ]
  },
  {
   "cell_type": "code",
   "execution_count": 30,
   "metadata": {},
   "outputs": [
    {
     "output_type": "execute_result",
     "data": {
      "text/plain": [
       "LinearRegression()"
      ]
     },
     "metadata": {},
     "execution_count": 30
    }
   ],
   "source": [
    "linear = linear_model.LinearRegression()\n",
    "\n",
    "linear.fit(x_train, y_train)"
   ]
  },
  {
   "cell_type": "code",
   "execution_count": 31,
   "metadata": {},
   "outputs": [
    {
     "output_type": "stream",
     "name": "stdout",
     "text": [
      "0.9572130173200458\nCoefficient: \n [ 0.15271224  0.97913243 -0.2271043  -0.27734589  0.03876465]\nIntercept: \n -1.4400374400463605\n"
     ]
    }
   ],
   "source": [
    "acc = linear.score(x_test, y_test)\n",
    "print(acc)\n",
    "\n",
    "print('Coefficient: \\n', linear.coef_)\n",
    "print('Intercept: \\n', linear.intercept_)\n",
    "\n",
    "predictions = linear.predict(x_test)"
   ]
  },
  {
   "cell_type": "code",
   "execution_count": null,
   "metadata": {},
   "outputs": [],
   "source": []
  },
  {
   "cell_type": "code",
   "execution_count": 32,
   "metadata": {},
   "outputs": [
    {
     "output_type": "stream",
     "name": "stdout",
     "text": [
      "11.868680849192202 [15 12  2  1  0] 12\n-0.3671236315986157 [10  0  2  0  0] 0\n13.47404098917155 [15 13  2  0  9] 15\n14.181820892721678 [15 14  2  0  2] 14\n12.886068150756538 [15 13  3  2 14] 13\n15.623782737442294 [16 15  2  0 10] 15\n6.057415049013321 [ 7  6  2  0 26] 6\n16.140085754330933 [15 16  2  0  2] 16\n11.016528413987391 [13 11  2  0  4] 11\n8.014219226323195 [7 9 1 1 2] 8\n14.855528843704612 [13 15  2  0  2] 16\n9.806363558780584 [10 10  1  0  4] 10\n9.372282529576681 [ 9  9  1  0 22] 9\n8.602473179737322 [9 9 2 0 8] 9\n12.026085783286499 [14 12  2  1  8] 12\n8.969992085786934 [10 10  4  0  0] 10\n13.711321563858858 [13 13  2  0 23] 13\n12.933172505763341 [14 13  3  1 12] 13\n13.209727503192227 [12 13  2  0 14] 12\n11.715968609281356 [14 12  2  1  0] 12\n8.366748061151693 [8 9 1 0 0] 8\n10.445234992084696 [11 11  3  0  3] 11\n8.600126832645596 [10  9  2  0  4] 9\n10.944482705659603 [13 11  3  0  8] 11\n10.556045347163128 [11 11  2  0  0] 10\n14.852391605622838 [12 15  1  0  0] 15\n12.592630393263713 [13 13  3  0  0] 14\n10.250620867341434 [ 9 11  2  0  0] 12\n14.035383128974377 [16 14  4  0  6] 15\n12.667022448683227 [12 13  2  0  0] 13\n-1.0523646466615135 [7 0 3 0 0] 0\n8.292356005732179 [9 9 2 0 0] 10\n19.311652709228767 [19 19  4  0  4] 20\n12.29268949861552 [11 13  4  0  6] 14\n11.6878900178786 [12 12  2  0  0] 11\n14.025971414729058 [13 14  1  0  0] 14\n3.4923241286348032 [3 5 2 1 8] 5\n14.259350186222964 [15 14  2  0  4] 14\n12.067706553119804 [13 12  1  0  0] 12\n10.336770984097992 [10 11  4  0 10] 11\n"
     ]
    }
   ],
   "source": [
    "predictions = linear.predict(x_test)\n",
    "\n",
    "for x in range(len(predictions)):\n",
    "    print(predictions[x], x_test[x], y_test[x])"
   ]
  },
  {
   "cell_type": "code",
   "execution_count": null,
   "metadata": {},
   "outputs": [],
   "source": []
  },
  {
   "cell_type": "code",
   "execution_count": 33,
   "metadata": {},
   "outputs": [],
   "source": [
    "import pickle"
   ]
  },
  {
   "cell_type": "code",
   "execution_count": null,
   "metadata": {},
   "outputs": [],
   "source": []
  }
 ]
}